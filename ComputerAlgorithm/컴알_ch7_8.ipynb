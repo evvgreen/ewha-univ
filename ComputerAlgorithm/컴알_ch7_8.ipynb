{
  "cells": [
    {
      "cell_type": "markdown",
      "metadata": {
        "id": "p-5i-hXghhlR"
      },
      "source": [
        "##AVL Tree"
      ]
    },
    {
      "cell_type": "code",
      "execution_count": null,
      "metadata": {
        "colab": {
          "base_uri": "https://localhost:8080/"
        },
        "id": "4S-fTr-DhZCV",
        "outputId": "0627ffca-8311-477b-e357-34f3b1ce5fdf"
      },
      "outputs": [
        {
          "name": "stdout",
          "output_type": "stream",
          "text": [
            "35  \n",
            "35 25  \n",
            "25 13 35  \n",
            "25 13 35 40  \n",
            "25 13 40 35 45  \n",
            "35 25 13 30 40 45  \n",
            "35 25 13 30 40 45  \n",
            "25 13 30 35 40 45 \n",
            "Found\n"
          ]
        }
      ],
      "source": [
        "import sys\n",
        "input = sys.stdin.readline\n",
        "\n",
        "class AVLNode:\n",
        "    key = None\n",
        "    left = None\n",
        "    right = None\n",
        "\n",
        "def createNode(key):\n",
        "    node = AVLNode()\n",
        "    node.key = key\n",
        "    return node\n",
        "\n",
        "def preOrder(root):\n",
        "    if root!=None:\n",
        "        print(root.key, end=' ')\n",
        "        preOrder(root.left)\n",
        "        preOrder(root.right)\n",
        "\n",
        "def inOrder(root):\n",
        "    if root!=None:\n",
        "        preOrder(root.left)\n",
        "        print(root.key, end=' ')\n",
        "        preOrder(root.right)\n",
        "\n",
        "def searchNode(node, key):\n",
        "    if node==None:\n",
        "        return None\n",
        "    elif key == node.key:\n",
        "        return node\n",
        "    elif key < node.key:\n",
        "        return searchNode(node.left, key)\n",
        "    elif key > node.key:\n",
        "        return searchNode(node.right, key)\n",
        "\n",
        "def getHeight(node):\n",
        "    height = 0\n",
        "    if node != None:\n",
        "        height = 1 + max(getHeight(node.left), getHeight(node.right))\n",
        "    return height\n",
        "\n",
        "def getBalance(node):\n",
        "    if(node==None):\n",
        "        return 0\n",
        "    return getHeight(node.left) - getHeight(node.right)\n",
        "\n",
        "def rotateRight(p):\n",
        "    c = p.left\n",
        "    p.left = c.right\n",
        "    c.right = p\n",
        "    return c\n",
        "\n",
        "def rotateLeft(p):\n",
        "    c = p.right\n",
        "    p.right = c.left\n",
        "    c.left = p\n",
        "    return c\n",
        "\n",
        "def insert(node, key):\n",
        "    if node==None:\n",
        "        return createNode(key)\n",
        "    elif key > node.key:\n",
        "        node.right = insert(node.right, key)\n",
        "    elif key < node.key:\n",
        "        node.left = insert(node.left, key)\n",
        "\n",
        "    balance = getBalance(node)\n",
        "\n",
        "    left = node.left\n",
        "    right = node.right\n",
        "    if (balance > 1 and key<left.key): #LL\n",
        "        node =  rotateRight(node)\n",
        "    if (balance > 1 and key>left.key): #LR\n",
        "        node.left = rotateLeft(node.left)\n",
        "        node = rotateRight(node)\n",
        "    if( balance < -1 and key<right.key): #RL\n",
        "        node.right = rotateRight(node.right)\n",
        "        node = rotateLeft(node)\n",
        "    if (balance < -1 and key>right.key): #RR\n",
        "        node = rotateLeft(node)\n",
        "\n",
        "    return node # 중복값은 보이지 않음\n",
        "\n",
        "root = None\n",
        "A = [35, 25, 13, 40, 45, 30]\n",
        "\n",
        "for a in A:\n",
        "    root = insert(root, a)\n",
        "    preOrder(root)\n",
        "    print(\" \")\n",
        "\n",
        "preOrder(root)\n",
        "print(\" \")\n",
        "inOrder(root)\n",
        "print(\"\")\n",
        "\n",
        "if searchNode(root, 35):\n",
        "    print(\"Found\")\n",
        "else:\n",
        "    print(\"Not Found\")"
      ]
    },
    {
      "cell_type": "markdown",
      "metadata": {
        "id": "Nc_fDm5biw7D"
      },
      "source": [
        "##Bin Packing"
      ]
    },
    {
      "cell_type": "code",
      "execution_count": null,
      "metadata": {
        "colab": {
          "base_uri": "https://localhost:8080/"
        },
        "id": "sUtd6W5ujHlG",
        "outputId": "d6bb784f-2076-4401-d078-5fc3f9d9ebc3"
      },
      "outputs": [
        {
          "name": "stdout",
          "output_type": "stream",
          "text": [
            "First Fit # of bins:  5\n",
            "Bin: 0\n",
            "Item= 0 Size= 7\n",
            "Item= 4 Size= 2\n",
            "Bin: 1\n",
            "Item= 1 Size= 5\n",
            "Item= 3 Size= 4\n",
            "Bin: 2\n",
            "Item= 2 Size= 6\n",
            "Item= 5 Size= 3\n",
            "Bin: 3\n",
            "Item= 6 Size= 7\n",
            "Bin: 4\n",
            "Item= 7 Size= 5\n"
          ]
        }
      ],
      "source": [
        "N = 8\n",
        "BIN_SIZE = 10\n",
        "item = [7, 5, 6, 4, 2, 3, 7, 5]\n",
        "bins = [[] for i in range(N)]\n",
        "remnant = [BIN_SIZE for _ in range(N)]\n",
        "bin_count = 1\n",
        "\n",
        "for i in range(N):\n",
        "    j = 0\n",
        "    packed = False\n",
        "    while j < bin_count:\n",
        "        if item[i] <= remnant[j]:\n",
        "            bins[j].append([i, item[i]])\n",
        "            remnant[j] -= item[i]\n",
        "            packed = True\n",
        "            break\n",
        "        j+=1\n",
        "    if not packed:\n",
        "        bins[j].append([i, item[i]])\n",
        "        remnant[j] -= item[i]\n",
        "        bin_count += 1\n",
        "\n",
        "print('First Fit # of bins: ', bin_count)\n",
        "\n",
        "for i in range(bin_count):\n",
        "    print('Bin:', i)\n",
        "    for j in range(len(bins[i])):\n",
        "        print(\"Item=\", bins[i][j][0], \"Size=\", bins[i][j][1])"
      ]
    },
    {
      "cell_type": "markdown",
      "metadata": {
        "id": "ngLYss6ijLtQ"
      },
      "source": [
        "##BinarySearch"
      ]
    },
    {
      "cell_type": "code",
      "execution_count": null,
      "metadata": {
        "colab": {
          "base_uri": "https://localhost:8080/"
        },
        "id": "V73-_4IYjNg8",
        "outputId": "0c9a4a1b-64e8-4460-c672-16849b7582a5"
      },
      "outputs": [
        {
          "name": "stdout",
          "output_type": "stream",
          "text": [
            "35 22 17 30 34 68 55 65  \n",
            "22 17 30 34 35 68 55 65 \n",
            "Found\n"
          ]
        }
      ],
      "source": [
        "import sys\n",
        "input = sys.stdin.readline\n",
        "\n",
        "class TreeNode:\n",
        "    key = None\n",
        "    left = None\n",
        "    right = None\n",
        "\n",
        "def createNode(key):\n",
        "    node = TreeNode()\n",
        "    node.key = key\n",
        "    return node\n",
        "\n",
        "def preOrder(root):\n",
        "    if root!=None:\n",
        "        print(root.key, end=' ')\n",
        "        preOrder(root.left)\n",
        "        preOrder(root.right)\n",
        "\n",
        "def inOrder(root):\n",
        "    if root!=None:\n",
        "        preOrder(root.left)\n",
        "        print(root.key, end=' ')\n",
        "        preOrder(root.right)\n",
        "\n",
        "def searchNode(node, key):\n",
        "    if node==None:\n",
        "        return None\n",
        "    elif key == node.key:\n",
        "        return node\n",
        "    elif key < node.key:\n",
        "        return searchNode(node.left, key)\n",
        "    elif key > node.key:\n",
        "        return searchNode(node.right, key)\n",
        "\n",
        "def insert(node, key):\n",
        "    if node==None:\n",
        "        return createNode(key)\n",
        "    elif key > node.key:\n",
        "        node.right = insert(node.right, key)\n",
        "    elif key < node.key:\n",
        "        node.left = insert(node.left, key)\n",
        "    return node # 중복값은 보이지 않음\n",
        "\n",
        "root = None\n",
        "A = [35, 68, 35, 22, 17, 55, 30, 34, 65]\n",
        "\n",
        "for a in A:\n",
        "    root = insert(root, a)\n",
        "\n",
        "preOrder(root)\n",
        "print(\" \")\n",
        "inOrder(root)\n",
        "print(\"\")\n",
        "\n",
        "if searchNode(root, 35):\n",
        "    print(\"Found\")\n",
        "else:\n",
        "    print(\"Not Found\")"
      ]
    },
    {
      "cell_type": "markdown",
      "metadata": {
        "id": "1P6vAlg4jQV_"
      },
      "source": [
        "##JobScheduling"
      ]
    },
    {
      "cell_type": "code",
      "execution_count": null,
      "metadata": {
        "colab": {
          "base_uri": "https://localhost:8080/"
        },
        "id": "-FzTX4SNjSTa",
        "outputId": "023af094-0916-4902-b876-033324383e52"
      },
      "outputs": [
        {
          "name": "stdout",
          "output_type": "stream",
          "text": [
            "Finish Time for all:  13\n",
            "Machine: 0\n",
            "job 0 time: 5\n",
            "job 7 time: 2\n",
            "job 9 time: 1\n",
            "Machine: 1\n",
            "job 1 time: 2\n",
            "job 4 time: 4\n",
            "job 8 time: 4\n",
            "Machine: 2\n",
            "job 2 time: 4\n",
            "job 6 time: 9\n",
            "Machine: 3\n",
            "job 3 time: 3\n",
            "job 5 time: 7\n"
          ]
        }
      ],
      "source": [
        "N=10\n",
        "M=4\n",
        "\n",
        "job = [5, 2, 4, 3, 4, 7, 9, 2, 4, 1]\n",
        "\n",
        "start_time = [0 for _ in range(M)]\n",
        "machine = [[] for _ in range(M)]\n",
        "\n",
        "for i in range(N):\n",
        "    j = start_time.index(min(start_time))\n",
        "    machine[j].append([i, job[i]])\n",
        "    start_time[j] += job[i]\n",
        "\n",
        "print('Finish Time for all: ', max(start_time))\n",
        "\n",
        "for i in range(M):\n",
        "    print(\"Machine:\", i)\n",
        "    for j in range(len(machine[i])):\n",
        "        print('job', machine[i][j][0], \"time:\", machine[i][j][1])"
      ]
    },
    {
      "cell_type": "markdown",
      "metadata": {
        "id": "cRlhtBWejUgM"
      },
      "source": [
        "##외판원 TSP"
      ]
    },
    {
      "cell_type": "code",
      "execution_count": null,
      "metadata": {
        "colab": {
          "base_uri": "https://localhost:8080/"
        },
        "id": "aZ5MKOqgjWbZ",
        "outputId": "73845736-e283-4e51-cc69-aadb495a748c"
      },
      "outputs": [
        {
          "name": "stdout",
          "output_type": "stream",
          "text": [
            "트리 방문 순서:  [0, 1, 2, 5, 2, 1, 0, 3, 0, 4, 0]\n",
            "TSP 경로: [0, 1, 2, 5, 3, 4, 0]\n",
            "appr dist = 21\n"
          ]
        }
      ],
      "source": [
        "tree = [[1, 3, 4], [0, 2], [1, 5], [0], [0], [2]]\n",
        "n = len(tree)\n",
        "INF = float('inf')\n",
        "g = [[0, 3, INF, 2, 4, INF],\n",
        "    [3, 9, 1, 4, INF, 2],\n",
        "    [INF, 1, 0, INF, INF, 1],\n",
        "    [2, 4, INF, 0, 5, 7],\n",
        "    [4, INF, INF, 5, 0, 9],\n",
        "    [INF, 2, 1, 7, 9, 0]]\n",
        "\n",
        "visited = [False for _ in range(n)]\n",
        "path = []\n",
        "\n",
        "def dfs(v):\n",
        "    visited[v] = True\n",
        "    path.append(v)\n",
        "    for w in tree[v]:\n",
        "        if not visited[w]:\n",
        "            dfs(w)\n",
        "            path.append(v)\n",
        "\n",
        "dfs(0)\n",
        "print(\"트리 방문 순서: \", path)\n",
        "s = []\n",
        "for vertex in path:\n",
        "    if vertex not in s:\n",
        "        s.append(vertex)\n",
        "s.append(0)\n",
        "print('TSP 경로:', s)\n",
        "\n",
        "dist = 0\n",
        "for i in range(n):\n",
        "    dist += g[s[i]][s[i+1]]\n",
        "print('appr dist =', dist)"
      ]
    },
    {
      "cell_type": "markdown",
      "metadata": {
        "id": "0g-0MlESjYKO"
      },
      "source": [
        "##VertexCover"
      ]
    },
    {
      "cell_type": "code",
      "execution_count": null,
      "metadata": {
        "colab": {
          "base_uri": "https://localhost:8080/"
        },
        "id": "Vui2a973jbUN",
        "outputId": "db071560-7e92-4088-cef8-f0286d349bed"
      },
      "outputs": [
        {
          "name": "stdout",
          "output_type": "stream",
          "text": [
            "Vertex Cover =  [0, 1, 2, 4]\n"
          ]
        }
      ],
      "source": [
        "g = [[0, 1, 0, 0, 0, 0],\n",
        "    [1, 0, 1, 1, 1, 0],\n",
        "    [0, 1, 0, 0, 1, 1],\n",
        "    [0, 1, 0, 0, 0, 0],\n",
        "    [0, 1, 1, 0, 0, 1],\n",
        "    [0, 0, 1, 0, 1, 0]]\n",
        "\n",
        "def VertexCover(adj):\n",
        "    V = len(adj)\n",
        "    visited = [False]*V\n",
        "    c = []\n",
        "\n",
        "    for u in range(V):\n",
        "        if visited[u] == False:\n",
        "            for v in range(V):\n",
        "                if adj[u][v] != 0 and visited[v] == False:\n",
        "                    c.append(u)\n",
        "                    c.append(v)\n",
        "                    visited[u] = True\n",
        "                    visited[v] = True\n",
        "                    break\n",
        "    return c\n",
        "\n",
        "c = VertexCover(g)\n",
        "print('Vertex Cover = ', c)"
      ]
    }
  ],
  "metadata": {
    "colab": {
      "name": "컴알_ch7_8",
      "provenance": []
    },
    "kernelspec": {
      "display_name": "Python 3",
      "name": "python3"
    },
    "language_info": {
      "name": "python"
    }
  },
  "nbformat": 4,
  "nbformat_minor": 0
}
