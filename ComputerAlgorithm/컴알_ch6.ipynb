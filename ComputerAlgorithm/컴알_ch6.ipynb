{
  "cells": [
    {
      "cell_type": "markdown",
      "metadata": {
        "id": "jl8YD62hwhyw"
      },
      "source": [
        "#Chapter 6 정렬 알고리즘\n",
        "\n"
      ]
    },
    {
      "cell_type": "markdown",
      "metadata": {
        "id": "fUyFlONXw4-G"
      },
      "source": [
        "- 내부 정렬\n",
        "    - 입력의 크기가 주기억 장치의 공간보다 크지 않은 경우\n",
        "    - 버블, 선택, 삽입, 합병, 퀵, 힙, 쉘, 기수, 이중 비폿, tim sort\n",
        "\n",
        "- 외부 정렬\n",
        "    - 입력의 크기가 주기억 장치 공간보다 큰 경우 보조 기억 장치에 입력을 여러 번에 나누어 주기억장치에 읽은 후 정렬해 보조 기억 장치에 저장하는 과정 반복\n",
        "    - 다방향 합병(p-way Merge), 다단계 합병(Polyphase Merge)"
      ]
    },
    {
      "cell_type": "markdown",
      "metadata": {
        "id": "bpLAjcHawmsa"
      },
      "source": [
        "##버블정렬\n",
        "\n",
        ": 이웃하는 숫자를 비교해 작은 수를 앞쪽으로 이동시키는 과정을 반복\n",
        "\n",
        "- 시간 복잡도: O(n^2)"
      ]
    },
    {
      "cell_type": "markdown",
      "metadata": {
        "id": "iY3NA9V_yMwi"
      },
      "source": [
        "**의사코드**\n",
        "\n",
        "입력: 크기가 n인 배열 A\n",
        "\n",
        "출력: 정렬된 배열 A\n",
        "\n",
        "    for pass = 1 to n-1\n",
        "        for i = 1 to n-pass\n",
        "            if(A[i-1] > A[i])\n",
        "                A[i-1] <--> A[i]\n",
        "    return A"
      ]
    },
    {
      "cell_type": "code",
      "execution_count": null,
      "metadata": {
        "id": "gLccytORy-j6"
      },
      "outputs": [],
      "source": [
        "def swap(x, y):\n",
        "    return (y, x)\n",
        "\n",
        "def bubbleSort(A):\n",
        "    temp = 0\n",
        "    for j in range(N):\n",
        "        print(A[j], end = ' ')\n",
        "    print('')\n",
        "\n",
        "    for p in range(1, N):\n",
        "        flag = False\n",
        "        for i in range(1, N-p+1):\n",
        "            if A[i-1] > A[i]:\n",
        "                A[i-1], A[i] = swap(A[i-1], A[i])\n",
        "                flag = True\n",
        "        if flag == False: break\n",
        "        print(A)\n",
        "\n",
        "    for j in range(N):\n",
        "        print(A[j], end = ' ')"
      ]
    },
    {
      "cell_type": "code",
      "execution_count": null,
      "metadata": {
        "colab": {
          "base_uri": "https://localhost:8080/"
        },
        "id": "Tk1ElToBwcyT",
        "outputId": "4ec8a6cd-ea3d-40a9-9ec6-8f5ed400304c"
      },
      "outputs": [
        {
          "name": "stdout",
          "output_type": "stream",
          "text": [
            "40 10 50 90 20 80 30 60 \n",
            "[10, 40, 50, 20, 80, 30, 60, 90]\n",
            "[10, 40, 20, 50, 30, 60, 80, 90]\n",
            "[10, 20, 40, 30, 50, 60, 80, 90]\n",
            "[10, 20, 30, 40, 50, 60, 80, 90]\n",
            "10 20 30 40 50 60 80 90 "
          ]
        }
      ],
      "source": [
        "N = 8\n",
        "\n",
        "A = [40, 10, 50, 90, 20, 80, 30, 60]\n",
        "bubbleSort(A)"
      ]
    },
    {
      "cell_type": "markdown",
      "metadata": {
        "id": "LUjVNZvi16wL"
      },
      "source": [
        "##선택정렬\n",
        ": 입력 배열 전체에서 최솟값을 선택해 배열의 0번 원소와 자리를 바꾸고, 다음엔 0번 원소를 제외한 나머지 원소에 대해 위 과정 반복 \n",
        "\n",
        "- 시간 복잡도: O(n^2)"
      ]
    },
    {
      "cell_type": "markdown",
      "metadata": {
        "id": "JUqAH6uc2o_x"
      },
      "source": [
        "**의사코드**\n",
        "\n",
        "입력: 크기가 n인 배열 A\n",
        "\n",
        "출력: 정렬된 배열 A\n",
        "\n",
        "    for i = 0 to n-2\n",
        "        min = i\n",
        "            for j = i+1 to n-1\n",
        "                if A[j] < A[min]\n",
        "                    min = j\n",
        "            A[i] <--> A[min]\n",
        "    return A"
      ]
    },
    {
      "cell_type": "code",
      "execution_count": null,
      "metadata": {
        "id": "6iOzB_ph3ku1"
      },
      "outputs": [],
      "source": [
        "def selectionSort(A):\n",
        "    min, temp = 0, 0\n",
        "    for j in range(N):\n",
        "        print(A[j], end = ' ')\n",
        "    print('')\n",
        "\n",
        "    for i in range(0, N-1):\n",
        "        min = i\n",
        "        for j in range(i+1, N):\n",
        "            if A[j] < A[min]:\n",
        "                min = j\n",
        "        A[i], A[min] = swap(A[i], A[min])\n",
        "        \n",
        "        print(A)\n",
        "\n",
        "    for j in range(N):\n",
        "        print(A[j], end = ' ')"
      ]
    },
    {
      "cell_type": "code",
      "execution_count": null,
      "metadata": {
        "colab": {
          "base_uri": "https://localhost:8080/"
        },
        "id": "ZSiBIDol3AoO",
        "outputId": "ca236232-e442-48e9-dacf-f30e3076762d"
      },
      "outputs": [
        {
          "name": "stdout",
          "output_type": "stream",
          "text": [
            "40 10 50 90 20 80 30 60 \n",
            "[10, 40, 50, 90, 20, 80, 30, 60]\n",
            "[10, 20, 50, 90, 40, 80, 30, 60]\n",
            "[10, 20, 30, 90, 40, 80, 50, 60]\n",
            "[10, 20, 30, 40, 90, 80, 50, 60]\n",
            "[10, 20, 30, 40, 50, 80, 90, 60]\n",
            "[10, 20, 30, 40, 50, 60, 90, 80]\n",
            "[10, 20, 30, 40, 50, 60, 80, 90]\n",
            "10 20 30 40 50 60 80 90 "
          ]
        }
      ],
      "source": [
        "N = 8\n",
        "\n",
        "A = [40, 10, 50, 90, 20, 80, 30, 60]\n",
        "selectionSort(A)"
      ]
    },
    {
      "cell_type": "markdown",
      "metadata": {
        "id": "MrnrvBzA62RK"
      },
      "source": [
        "##삽입정렬\n",
        ": 배열의 정렬된 부분과 정렬 안 된 부분으로 나누고 정렬 안 된 부분의 가장 왼쪽 원소를 적절한 위치에 삽입해 정렬"
      ]
    },
    {
      "cell_type": "markdown",
      "metadata": {
        "id": "LdfSdKx47Csy"
      },
      "source": [
        "**의사코드**\n",
        "\n",
        "입력: 크기가 n인 배열 A\n",
        "\n",
        "출력: 정렬된 배열 A\n",
        "\n",
        "    for i = 1 to n-1\n",
        "        Current = A[i]\n",
        "        j = i-1\n",
        "        while (j >= 0) and (A[i] > Current)\n",
        "            A[j+1] = A[j]\n",
        "        A[j+1] = Current\n",
        "    return A"
      ]
    },
    {
      "cell_type": "code",
      "execution_count": null,
      "metadata": {
        "id": "H_0g2E5z7cfJ"
      },
      "outputs": [],
      "source": [
        "def insertionSort(A):\n",
        "    for j in range(N):\n",
        "        print(A[j], end = ' ')\n",
        "    print('')\n",
        "    \n",
        "    for i in range(1, N):\n",
        "        current = A[i]\n",
        "        j = i-1\n",
        "        while (j >= 0) and (A[j] > current):\n",
        "            A[j+1] = A[j]\n",
        "            j -= 1\n",
        "        A[j+1] = current\n",
        "        print(A)\n",
        "\n",
        "    for j in range(N):\n",
        "        print(A[j], end = ' ')"
      ]
    },
    {
      "cell_type": "code",
      "execution_count": null,
      "metadata": {
        "colab": {
          "base_uri": "https://localhost:8080/"
        },
        "id": "lzUAoI-X7EI8",
        "outputId": "ca8471c8-82e3-4bbc-9a36-b2861d51a343"
      },
      "outputs": [
        {
          "name": "stdout",
          "output_type": "stream",
          "text": [
            "40 10 50 90 20 80 30 60 \n",
            "[10, 40, 50, 90, 20, 80, 30, 60]\n",
            "[10, 40, 50, 90, 20, 80, 30, 60]\n",
            "[10, 40, 50, 90, 20, 80, 30, 60]\n",
            "[10, 20, 40, 50, 90, 80, 30, 60]\n",
            "[10, 20, 40, 50, 80, 90, 30, 60]\n",
            "[10, 20, 30, 40, 50, 80, 90, 60]\n",
            "[10, 20, 30, 40, 50, 60, 80, 90]\n",
            "10 20 30 40 50 60 80 90 "
          ]
        }
      ],
      "source": [
        "N = 8\n",
        "\n",
        "A = [40, 10, 50, 90, 20, 80, 30, 60]\n",
        "insertionSort(A)"
      ]
    },
    {
      "cell_type": "markdown",
      "metadata": {
        "id": "_qgiPBHt-eVz"
      },
      "source": [
        "##쉘정렬\n",
        ": 간격을 이용 간격 크기는 주로 홀수"
      ]
    },
    {
      "cell_type": "markdown",
      "metadata": {
        "id": "Alaiy7_2A58I"
      },
      "source": [
        "**의사코드**\n",
        "\n",
        "입력: 크기가 n인 배열 A\n",
        "\n",
        "출력: 정렬된 배열 A\n",
        "\n",
        "    for each gap h = [h0>h1>...>hk=1]\n",
        "        for i = h to n-1\n",
        "            current = A[i]\n",
        "            j = i\n",
        "            while(j >= h) and (A[j-h]>current)\n",
        "                A[j] = A[j-h]\n",
        "                j = j-h\n",
        "            A[j] = current\n",
        "    return A"
      ]
    },
    {
      "cell_type": "code",
      "execution_count": null,
      "metadata": {
        "id": "UYpixXmtBU82"
      },
      "outputs": [],
      "source": [
        "def shellSort(A):\n",
        "    for j in range(N):\n",
        "        print(A[j], end = ' ')\n",
        "    print('')\n",
        "\n",
        "    for h in range(5, 0, -2):\n",
        "        for i in range(h, N):\n",
        "            current = A[i]\n",
        "            j = i\n",
        "\n",
        "            while (j >= h) and (A[j-h] > current):\n",
        "                A[j] = A[j-h]\n",
        "                j -= h\n",
        "\n",
        "            A[j] = current\n",
        "        print('Gap', h,':', A)\n",
        "\n",
        "\n",
        "    for i in range(N):\n",
        "        print(A[i], end = ' ')"
      ]
    },
    {
      "cell_type": "code",
      "execution_count": null,
      "metadata": {
        "colab": {
          "base_uri": "https://localhost:8080/"
        },
        "id": "U_5hBPSGBaSn",
        "outputId": "907eb764-d4f0-40ec-b34d-0ca91bd94409"
      },
      "outputs": [
        {
          "name": "stdout",
          "output_type": "stream",
          "text": [
            "30 60 90 10 40 80 40 20 10 60 50 30 40 90 80 \n",
            "Gap 5 : [30, 30, 20, 10, 40, 50, 40, 40, 10, 60, 80, 60, 90, 90, 80]\n",
            "Gap 3 : [10, 30, 10, 30, 40, 20, 40, 40, 50, 60, 80, 60, 90, 90, 80]\n",
            "Gap 1 : [10, 10, 20, 30, 30, 40, 40, 40, 50, 60, 60, 80, 80, 90, 90]\n",
            "10 10 20 30 30 40 40 40 50 60 60 80 80 90 90 "
          ]
        }
      ],
      "source": [
        "A = [30, 60, 90, 10, 40, 80, 40, 20, 10, 60, 50, 30, 40, 90, 80]\n",
        "N = len(A)\n",
        "\n",
        "shellSort(A)"
      ]
    },
    {
      "cell_type": "markdown",
      "metadata": {
        "id": "cE5jGyqPDzO8"
      },
      "source": [
        "##힙 정렬\n",
        "\n",
        ": 정렬할 입력으로 최대 힙을 만듦. 힙 루트에 가장 큰 수가 있으므로, 루트와 힙의 가장 마지막 노드를 교환(=가장 큰 수를 배열의 맨 뒤로 옮김) 후 힙 크기를 1 줄임. 위 과정 반복.\n",
        "\n"
      ]
    },
    {
      "cell_type": "markdown",
      "metadata": {
        "id": "Svqi3hFuGchw"
      },
      "source": [
        "- 이진 힙Binary Heap\n",
        "    - 힙 조건을 만족하는 완전 이진 트리\n",
        "    - 힙 조건: 각 노드의 우선순위가 자식 노드의 우선 순위보다 높다\n",
        "\n",
        "    - n개의 노드를 가진 힙. 힙의 높이는 log₂n"
      ]
    },
    {
      "cell_type": "markdown",
      "metadata": {
        "id": "3Oe_Rml3GTvu"
      },
      "source": [
        "- 힙의 부모 자식 관계\n",
        "    - A[i]의 부모 = A[i/2]\n",
        "        - 단, i가 홀수이면 i/2 내림\n",
        "    - A[i]의 왼쪽 자식 = A[2i]\n",
        "    - A[i]의 오른쪽 자식 = A[2i+1]"
      ]
    },
    {
      "cell_type": "code",
      "execution_count": null,
      "metadata": {
        "id": "uvrX3yiXGsM4"
      },
      "outputs": [],
      "source": [
        "class MaxHeap(object):\n",
        "    def __init__(self):\n",
        "        self.queue = []\n",
        "\n",
        "    def insert(self, n):\n",
        "        #맨 마지막에 삽입할 원소를 임시로 추가\n",
        "        self.queue.append(n)\n",
        "        last_index = len(self.queue) - 1\n",
        "        #부모를 타고 올라가면서 크기 비교\n",
        "        while 0 <= last_index:\n",
        "            parent_index = self.parent(last_index)\n",
        "            if 0 <= parent_index and self.queue[parent_index] < self.queue[last_index]:\n",
        "                self.swap(last_index, parent_index)\n",
        "                last_index = parent_index\n",
        "            else:\n",
        "                break\n",
        "                \n",
        "    def delete(self):\n",
        "        last_index = len(self.queue) - 1\n",
        "        if last_index < 0:\n",
        "            return -1\n",
        "        self.swap(0, last_index)\n",
        "        maxv = self.queue.pop()\n",
        "        self.maxHeapify(0)  #root에서부터 재정렬\n",
        "        print(maxv)\n",
        "        return maxv\n",
        "\n",
        "    def maxHeapify(self, i):\n",
        "        left_index = self.leftchild(i)\n",
        "        right_index = self.rightchild(i)\n",
        "        max_index = i   #더 큰 값의 index를 넣음\n",
        "        \n",
        "        if left_index <= len(self.queue) -1 and self.queue[max_index] < self.queue[left_index]:\n",
        "            max_index = left_index\n",
        "        if right_index <= len(self.queue) -1 and self.queue[max_index] < self.queue[right_index]:\n",
        "            max_index = right_index\n",
        "\n",
        "        #만약 자신이 가장 크지 않으면 heapify\n",
        "        if max_index != i:\n",
        "            self.swap(i, max_index)\n",
        "            self.maxHeapify(max_index)\n",
        "        \n",
        "    def swap(self, i, parent_index):\n",
        "        self.queue[i], self.queue[parent_index] = self.queue[parent_index], self.queue[i]\n",
        "\n",
        "    def parent(self, index):\n",
        "        return (index -1)//2\n",
        "\n",
        "    def leftshild(self, index):\n",
        "        return index*2+1\n",
        "\n",
        "    def rightchild(self, index):\n",
        "        return index*2+2\n",
        "\n",
        "    def printHeap(self):\n",
        "        print(self.queue)"
      ]
    },
    {
      "cell_type": "code",
      "execution_count": null,
      "metadata": {
        "colab": {
          "base_uri": "https://localhost:8080/"
        },
        "id": "P_9rrV4nNnKe",
        "outputId": "7d31d9a5-fd64-4fb8-e9d5-eb00b60de93d"
      },
      "outputs": [
        {
          "name": "stdout",
          "output_type": "stream",
          "text": [
            "[90, 60, 80, 50, 30, 70, 10, 20, 40]\n"
          ]
        }
      ],
      "source": [
        "mh = MaxHeap()\n",
        "mh.__init__()\n",
        "\n",
        "mh.insert(90)\n",
        "mh.insert(60)\n",
        "mh.insert(80)\n",
        "mh.insert(50)\n",
        "mh.insert(30)\n",
        "mh.insert(70)\n",
        "mh.insert(10)\n",
        "mh.insert(20)\n",
        "mh.insert(40)\n",
        "mh.printHeap()"
      ]
    },
    {
      "cell_type": "code",
      "execution_count": null,
      "metadata": {
        "colab": {
          "base_uri": "https://localhost:8080/"
        },
        "id": "pOSwpRC1uKl4",
        "outputId": "e413f47c-646f-458d-cd3f-890bd1e1728b"
      },
      "outputs": [
        {
          "name": "stdout",
          "output_type": "stream",
          "text": [
            "[90, 80, 80, 50, 60, 70, 10, 20, 40, 30]\n"
          ]
        }
      ],
      "source": [
        "mh.insert(80)\n",
        "mh.printHeap()"
      ]
    },
    {
      "cell_type": "markdown",
      "metadata": {
        "id": "05A94tv_uyQX"
      },
      "source": [
        "**의사코드**\n",
        "\n",
        "입력: 입력이 A[1]부터 A[n]까지 저장된 배열 A\n",
        "\n",
        "출력: 정렬된 배열 A\n",
        "* 시간복잡도 O(nlogn)\n",
        "\n",
        "\n",
        "    A의 숫자에 대해 최대 힙을 만든다\n",
        "    heapSize = n //힙의 크기를 조절하는 변수\n",
        "    for i = 1 to n-1\n",
        "        A[1] <--> A[heapSize] // 루트와 힙의 마지막 노드 교환\n",
        "        heapSize = heapSize -1 // 힙의 크기 1 감소\n",
        "        DownHeap() // 위배된 힙 조건을 만족\n",
        "    return A"
      ]
    },
    {
      "cell_type": "code",
      "execution_count": null,
      "metadata": {
        "id": "zlfdhtdYvRGW"
      },
      "outputs": [],
      "source": [
        "class MaxHeap(object):\n",
        "    \n",
        "    heapSize = 0\n",
        "\n",
        "    def __init__(self):\n",
        "        self.queue = []\n",
        "\n",
        "    def swap(self, i, parent_index):\n",
        "        self.queue[i], self.queue[parent_index] = self.queue[parent_index], self.queue[i]\n",
        "\n",
        "    def printHeap(self):\n",
        "        print(self.queue)\n",
        "\n",
        "    def downHeap(self):\n",
        "        item = self.queue[1]\n",
        "        parent, child = 1, 2\n",
        "        n = self.heapSize\n",
        "\n",
        "        while child <= n:\n",
        "            if (child < n) and (self.queue[child+1] > self.queue[child]):\n",
        "                child += 1\n",
        "            \n",
        "            if (item >= self.queue[child]): break\n",
        "\n",
        "            self.queue[parent] = self.queue[child]\n",
        "            parent = child\n",
        "            child *= 2\n",
        "               \n",
        "        self.queue[parent] = item\n",
        "    \n",
        "    def heapSort(self):\n",
        "        n = self.heapSize\n",
        "\n",
        "        for i in range(1, n+1):\n",
        "            item = self.queue[1]\n",
        "            self.queue[1] = self.queue[self.heapSize]\n",
        "            self.queue[self.heapSize] = item\n",
        "            self.heapSize -= 1\n",
        "            self.downHeap()\n",
        "            print(i, ':', self.queue)\n",
        "        self.printHeap()"
      ]
    },
    {
      "cell_type": "code",
      "execution_count": null,
      "metadata": {
        "colab": {
          "base_uri": "https://localhost:8080/"
        },
        "id": "nYn83hC01SOZ",
        "outputId": "2bbbc0fb-e7df-4f0c-ed90-fa8110a07873"
      },
      "outputs": [
        {
          "name": "stdout",
          "output_type": "stream",
          "text": [
            "[0, 90, 60, 80, 50, 30, 70, 10, 20, 40]\n"
          ]
        }
      ],
      "source": [
        "mh = MaxHeap()\n",
        "mh.__init__()\n",
        "mh.queue = [0, 90, 60, 80, 50, 30, 70, 10, 20, 40]\n",
        "mh.heapSize = len(mh.queue) - 1\n",
        "mh.printHeap()"
      ]
    },
    {
      "cell_type": "code",
      "execution_count": null,
      "metadata": {
        "colab": {
          "base_uri": "https://localhost:8080/"
        },
        "id": "w3llhAC2Iy2K",
        "outputId": "a0b0aa8a-03df-47a7-c1db-941f3be0ecf1"
      },
      "outputs": [
        {
          "name": "stdout",
          "output_type": "stream",
          "text": [
            "1 : [0, 80, 60, 70, 50, 30, 40, 10, 20, 90]\n",
            "2 : [0, 70, 60, 40, 50, 30, 20, 10, 80, 90]\n",
            "3 : [0, 60, 50, 40, 10, 30, 20, 70, 80, 90]\n",
            "4 : [0, 50, 30, 40, 10, 20, 60, 70, 80, 90]\n",
            "5 : [0, 40, 30, 20, 10, 50, 60, 70, 80, 90]\n",
            "6 : [0, 30, 10, 20, 40, 50, 60, 70, 80, 90]\n",
            "7 : [0, 20, 10, 30, 40, 50, 60, 70, 80, 90]\n",
            "8 : [0, 10, 20, 30, 40, 50, 60, 70, 80, 90]\n",
            "9 : [0, 10, 20, 30, 40, 50, 60, 70, 80, 90]\n",
            "[0, 10, 20, 30, 40, 50, 60, 70, 80, 90]\n"
          ]
        }
      ],
      "source": [
        "mh.heapSort()"
      ]
    },
    {
      "cell_type": "markdown",
      "metadata": {
        "id": "RMYGFUR_LbVN"
      },
      "source": [
        "##하한기수외부정렬\n",
        "\n"
      ]
    },
    {
      "cell_type": "markdown",
      "metadata": {
        "id": "hCSrPSmFNoF2"
      },
      "source": [
        "비교 정렬Comparison Sort\n",
        "\n",
        ": 버블정렬, 선택 정렬, 삽입 정렬, 쉘 정렬, 힙 정렬, 합병 정렬, 퀵 정렬의 공통점은 비교가 부분적인 숫자 대 숫자로 이루어짐\n",
        "\n",
        "- 기수정렬은 숫자를 한 자리씩 부분적으로 비교\n",
        "\n",
        "- 최대값 문제의 하한: 적어도 (n-1)번의 비교\n",
        "\n",
        "정렬 문제의 하한\n",
        "- n개의 서로 다른 숫자를 비교 정렬하는 결정 트리의 높이가 비교 정렬의 하한\n",
        "- k개의 leaf이 있는 이진 트리의 높이는 log k보다 크다\n",
        "- n!개의 leaf을 가진 트리의 높이는 log(n!)보다 크다\n",
        "- log(n!) = O(nlogn)이므로 비교정렬의 하한은 O(nlogn)"
      ]
    },
    {
      "cell_type": "markdown",
      "metadata": {
        "id": "xQbtFI_ANpES"
      },
      "source": [
        "기수 정렬\n",
        "- 숫자를 부분적으로 비교해 정렬\n",
        "- 기수 정렬은 제한적 범위 내에 있는 숫자에 대해 각 자리수에 대해 비교\n",
        "\n",
        "안정성\n",
        "- 입력에 중복 숫자가 있을 때 정렬 후의 순서가 입력에서의 순서와 동일하면 안정성을 가짐\n",
        "\n",
        "**알고리즘**\n",
        "입력: n개의 r진수의 k자리 숫자\n",
        "출력: 정렬된 숫자\n",
        "\n",
        "    for i = 1 to k\n",
        "        각 숫자 i자리 숫자에 대해 안정한 정렬을 \n",
        "    return A"
      ]
    },
    {
      "cell_type": "code",
      "execution_count": null,
      "metadata": {
        "id": "uu8yDtrcO3R4"
      },
      "outputs": [],
      "source": [
        "N = 10\n",
        "D = 3\n",
        "\n",
        "class CircularQueue(object):\n",
        "   \n",
        "    def init(self):\n",
        "        self.data = [0]\n",
        "        self.front = self.rear = 0\n",
        "\n",
        "    def isEmpty(self):\n",
        "        return self.front == self.rear\n",
        "\n",
        "    def isFull(self):\n",
        "        return ((self.rear+1)%N == self.front)\n",
        "    \n",
        "    def enqueue(self, item):\n",
        "        if self.isFull():\n",
        "            print('Full')\n",
        "        else:\n",
        "            self.rear = (self.rear+1) % N\n",
        "            self.data.append(item)\n",
        "            \n",
        "    def dequeue(self):\n",
        "        if self.isEmpty():\n",
        "            print('Empty')\n",
        "        else:\n",
        "            self.front = (self.front+1) % N\n",
        "            item = self.data[self.front]\n",
        "            del self.data[self.front]\n",
        "            self.front -= 1\n",
        "            self.rear -= 1\n",
        "            #print(self.data, self.front, self.isEmpty())\n",
        "        return item"
      ]
    },
    {
      "cell_type": "code",
      "execution_count": null,
      "metadata": {
        "id": "GH9B5Pq_Ux9e"
      },
      "outputs": [],
      "source": [
        "def radixSort(n_list):\n",
        "    factor = 1\n",
        "    Q = [CircularQueue() for i in range(N)]\n",
        "    for b in range(N):\n",
        "        Q[b].init()\n",
        "\n",
        "    for d in range(D):\n",
        "        for i in range(N):\n",
        "            Q[int(n_list[i]/factor)%10].enqueue(n_list[i])\n",
        "            \n",
        "            #for _ in range(N):\n",
        "            #    print(Q[_].data, Q[_].isEmpty())\n",
        "            #print('-'*20)\n",
        "        \n",
        "        i = 0\n",
        "        for b in range(N):\n",
        "            while (Q[b].isEmpty()) == False:\n",
        "                n_list[i] = Q[b].dequeue()\n",
        "                i += 1\n",
        "        factor *= 10\n",
        "    return n_list"
      ]
    },
    {
      "cell_type": "code",
      "execution_count": null,
      "metadata": {
        "colab": {
          "base_uri": "https://localhost:8080/"
        },
        "id": "ipJgxXMpTmFD",
        "outputId": "f95a612c-4b26-4fc8-c46f-4ad8da4994a1"
      },
      "outputs": [
        {
          "name": "stdout",
          "output_type": "stream",
          "text": [
            "[865, 395, 777, 912, 431, 42, 266, 989, 524, 498]\n",
            "[42, 266, 395, 431, 498, 524, 777, 865, 912, 989]\n"
          ]
        }
      ],
      "source": [
        "n_list = []\n",
        "import random\n",
        "random.seed(0)\n",
        "for i in range(N):\n",
        "    n_list.append(random.randint(1, 1000))\n",
        "print(n_list)\n",
        "\n",
        "n_list = radixSort(n_list)\n",
        "\n",
        "print(n_list)"
      ]
    },
    {
      "cell_type": "markdown",
      "metadata": {
        "id": "MzEoAOBn8Fj-"
      },
      "source": [
        "##정렬 응용"
      ]
    },
    {
      "cell_type": "code",
      "execution_count": null,
      "metadata": {
        "colab": {
          "base_uri": "https://localhost:8080/"
        },
        "id": "L0VdWkdj75u0",
        "outputId": "ddd11bef-d2d1-4811-8b62-20e1924e1aac"
      },
      "outputs": [
        {
          "name": "stdout",
          "output_type": "stream",
          "text": [
            "[0, 0, 0, 0, 0, 1, 1, 1, 1, 1, 1]\n"
          ]
        }
      ],
      "source": [
        "def swap(x, y):\n",
        "    return (y, x)\n",
        "def partition(A):\n",
        "    left = 0 \n",
        "    right = N-1\n",
        "    while left<right:\n",
        "        while A[left] == 0: # 연속된 0의 끝, 1이 나올 때까지\n",
        "            left += 1\n",
        "        while A[right] == 1: # 연속된 1의 끝, 0이 나올 때까지\n",
        "            right -= 1\n",
        "        if left < right: # left, right가 엇갈려서 정렬이 끝나지 전까지\n",
        "            A[left], A[right] = swap(A[left], A[right]) #왼쪽에 있는 1과, 오른쪽에 있는 0을 교환\n",
        "    \n",
        "    print(A)\n",
        "\n",
        "A = [0, 1, 1, 1, 0, 1, 1, 0, 0, 0, 1]\n",
        "N = len(A)\n",
        "partition(A)"
      ]
    },
    {
      "cell_type": "code",
      "execution_count": null,
      "metadata": {
        "colab": {
          "base_uri": "https://localhost:8080/"
        },
        "id": "JcuiVlpTFvl8",
        "outputId": "54fef219-74bf-48a9-9f7c-db2b13a2080a"
      },
      "outputs": [
        {
          "name": "stdout",
          "output_type": "stream",
          "text": [
            "[0, 0, 0, 0, 0, 1, 1, 1, 1, 2, 2, 2]\n"
          ]
        }
      ],
      "source": [
        "N = 12\n",
        "def partition(A):\n",
        "    left = 0\n",
        "    right = N-1\n",
        "    i = 0\n",
        "\n",
        "    while i <= right: # i가 가리키는 곳과 left, right를 이동(0과 2만 이동)\n",
        "        if A[i] == 0:\n",
        "            A[i], A[left] = swap(A[i], A[left])\n",
        "            i += 1\n",
        "            left += 1\n",
        "        elif A[i] == 2:\n",
        "            A[i], A[right] = swap(A[i], A[right])\n",
        "            right -= 1\n",
        "        else:\n",
        "            i += 1\n",
        "    print(A)\n",
        "\n",
        "A = [0, 0, 1, 1, 1, 2, 1, 2, 0, 0, 0, 2]\n",
        "partition(A)"
      ]
    },
    {
      "cell_type": "code",
      "execution_count": null,
      "metadata": {
        "colab": {
          "base_uri": "https://localhost:8080/"
        },
        "id": "fqfUY9S-Hfe2",
        "outputId": "b5a5e980-4266-41c4-eeb6-67717ecbcdea"
      },
      "outputs": [
        {
          "name": "stdout",
          "output_type": "stream",
          "text": [
            "[14, 7, 13, 1, 5, 9, 8, 4, 3, 12, 6, 10, 11, 2]\n",
            "[2, 1, 5, 4, 3, 9, 8, 7, 6, 12, 10, 11, 13, 14]\n"
          ]
        }
      ],
      "source": [
        "N = 14\n",
        "def rangePartition(A, low, high):\n",
        "    left = 0\n",
        "    right = N-1\n",
        "    i = 0\n",
        "\n",
        "    while i <= right:\n",
        "        if A[i] < low:\n",
        "            A[i], A[left] = swap(A[i], A[left])\n",
        "            i += 1\n",
        "            left += 1\n",
        "        elif A[i] > high:\n",
        "            A[i], A[right] = swap(A[i], A[right])\n",
        "            right -= 1\n",
        "        else:\n",
        "            i += 1\n",
        "    print(A)\n",
        "\n",
        "import random\n",
        "random.seed(0)\n",
        "A = random.sample(range(1, N+1), N)\n",
        "\n",
        "\n",
        "print(A)\n",
        "rangePartition(A, 6, 9)"
      ]
    },
    {
      "cell_type": "code",
      "execution_count": null,
      "metadata": {
        "colab": {
          "base_uri": "https://localhost:8080/"
        },
        "id": "qqvypUpqLN2i",
        "outputId": "e5c06b4c-1197-4c76-ace3-7794bd36ffd8"
      },
      "outputs": [
        {
          "name": "stdout",
          "output_type": "stream",
          "text": [
            "[37, 18, 97, 13, 80, 33, 69, 91, 78, 19, 40, 94, 10, 88]\n",
            "[88, 18, 10, 94, 80, 40, 78, 91, 69, 19, 33, 13, 97, 37]\n"
          ]
        }
      ],
      "source": [
        "N = 14\n",
        "def sepEvenOdd(A):\n",
        "    left = 0\n",
        "    right = N-1\n",
        "\n",
        "    while left <= right:\n",
        "        if A[left]%2 ==0: # left가 짝수\n",
        "            left+=1\n",
        "        elif A[right]%2 ==1: #right가 홀수 \n",
        "            right-=1\n",
        "        else: # left가 홀수고, right가 짝수면 SWAP\n",
        "            A[left], A[right] = swap(A[left], A[right])\n",
        "            left+=1\n",
        "            right-=1\n",
        "    print(A)\n",
        "\n",
        "A = random.sample(range(1, 101), N)\n",
        "print(A)\n",
        "sepEvenOdd(A)"
      ]
    },
    {
      "cell_type": "code",
      "execution_count": null,
      "metadata": {
        "colab": {
          "base_uri": "https://localhost:8080/"
        },
        "id": "K1XEWCHJLsYB",
        "outputId": "29ead12a-def9-4b41-8a3e-7d0e9027efca"
      },
      "outputs": [
        {
          "name": "stdout",
          "output_type": "stream",
          "text": [
            "['R', 'B', 'R', 'R', 'B', 'G', 'B', 'B', 'B', 'G', 'G', 'R', 'G', 'G']\n",
            "['R', 'R', 'R', 'R', 'B', 'G', 'B', 'B', 'B', 'G', 'G', 'B', 'G', 'G']\n",
            "['R', 'R', 'R', 'R', 'G', 'G', 'G', 'G', 'G', 'B', 'B', 'B', 'B', 'B']\n"
          ]
        }
      ],
      "source": [
        "N = 14\n",
        "\n",
        "def partition(A, left, right, pivot):\n",
        "    low = left -1\n",
        "    high = right+1\n",
        "\n",
        "    while True:\n",
        "        while True:\n",
        "            low += 1\n",
        "            if A[low]!=pivot:\n",
        "                break\n",
        "        while True:\n",
        "            high-=1\n",
        "            if A[high] == pivot:\n",
        "                break\n",
        "        if low < high:\n",
        "            A[low], A[high] = swap(A[low], A[high])\n",
        "        if low >= high:    \n",
        "            break\n",
        "    print(A)\n",
        "    return low\n",
        "\n",
        "def sepColor(A, left, right):\n",
        "    q = partition(A, left, right, 'R')\n",
        "    \n",
        "    partition(A, q, right, 'G')\n",
        "\n",
        "for i in range(N):\n",
        "    c = random.randint(0, 3)\n",
        "    if c == 0:\n",
        "        A[i] = 'R'\n",
        "    elif c == 1:\n",
        "        A[i] = 'G'\n",
        "    else:\n",
        "        A[i] = 'B'\n",
        "\n",
        "print(A)\n",
        "\n",
        "sepColor(A, 0, N-1)"
      ]
    }
  ],
  "metadata": {
    "colab": {
      "name": "컴알_ch6",
      "provenance": []
    },
    "kernelspec": {
      "display_name": "Python 3",
      "name": "python3"
    },
    "language_info": {
      "name": "python"
    }
  },
  "nbformat": 4,
  "nbformat_minor": 0
}
